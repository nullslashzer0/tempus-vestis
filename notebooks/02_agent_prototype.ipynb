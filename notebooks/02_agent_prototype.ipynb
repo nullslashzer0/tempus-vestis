{
  "cells": [
    {
      "cell_type": "markdown",
      "metadata": {},
      "source": [
        "# TempusVestis Agent Prototype\n",
        "\n",
        "This notebook tests the Zero-Shot Agent implementation for dynamic tool selection and orchestration.\n",
        "\n",
        "## Test Objectives\n",
        "\n",
        "1. Verify the agent can dynamically select and execute tools\n",
        "2. Test multi-step reasoning (date calculation → weather lookup → recommendation)\n",
        "3. Examine intermediate steps and tool call sequences\n",
        "4. Validate error handling and clarification loops\n"
      ]
    },
    {
      "cell_type": "code",
      "execution_count": null,
      "metadata": {},
      "outputs": [],
      "source": [
        "# Setup and imports\n",
        "import os\n",
        "import sys\n",
        "from dotenv import load_dotenv\n",
        "\n",
        "# Add src to path\n",
        "sys.path.insert(0, os.path.abspath('..'))\n",
        "\n",
        "# Load environment variables\n",
        "load_dotenv()\n",
        "\n",
        "from core.agent import WardrobeAgent, create_wardrobe_agent, run_agent\n",
        "from tools.date_ops import get_current_date, calculate_future_date\n",
        "from tools.weather_api import get_weather_forecast\n"
      ]
    },
    {
      "cell_type": "markdown",
      "metadata": {},
      "source": [
        "## Test 1: Basic Tool Access\n",
        "\n",
        "First, let's verify that individual tools work correctly.\n"
      ]
    },
    {
      "cell_type": "code",
      "execution_count": null,
      "metadata": {},
      "outputs": [],
      "source": [
        "# Test date tools\n",
        "print(\"Current date:\", get_current_date.invoke({}))\n",
        "print(\"Date in 7 days:\", calculate_future_date.invoke({\"days\": 7}))\n",
        "print(\"Date in 14 days:\", calculate_future_date.invoke({\"days\": 14}))\n"
      ]
    },
    {
      "cell_type": "markdown",
      "metadata": {},
      "source": [
        "## Test 2: Create the Agent\n",
        "\n",
        "Initialize the agent with verbose mode to see tool calls.\n"
      ]
    },
    {
      "cell_type": "code",
      "execution_count": null,
      "metadata": {},
      "outputs": [],
      "source": [
        "# Create agent with verbose output\n",
        "agent = WardrobeAgent(\n",
        "    model_name=\"gpt-4o-mini\",\n",
        "    temperature=0.7,\n",
        "    verbose=True\n",
        ")\n",
        "\n",
        "print(\"Agent created successfully!\")\n",
        "\n",
        "# Test query\n",
        "query = \"What should I pack for a trip to Chicago 7 days from now?\"\n",
        "response = agent.ask(query)\n",
        "print(\"\\n\" + \"=\"*80)\n",
        "print(\"RESPONSE:\")\n",
        "print(\"=\"*80)\n",
        "print(response)\n"
      ]
    }
  ],
  "metadata": {
    "kernelspec": {
      "display_name": "tempus-vestis-MJzqyfbf",
      "language": "python",
      "name": "python3"
    },
    "language_info": {
      "codemirror_mode": {
        "name": "ipython",
        "version": 3
      },
      "file_extension": ".py",
      "mimetype": "text/x-python",
      "name": "python",
      "nbconvert_exporter": "python",
      "pygments_lexer": "ipython3",
      "version": "3.11.0"
    }
  },
  "nbformat": 4,
  "nbformat_minor": 2
}
