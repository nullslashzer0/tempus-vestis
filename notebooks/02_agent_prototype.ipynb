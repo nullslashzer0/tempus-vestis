{
  "cells": [
    {
      "cell_type": "markdown",
      "metadata": {},
      "source": [
        "# TempusVestis Agent Prototype\n",
        "\n",
        "This notebook tests the Zero-Shot Agent implementation for dynamic tool selection and orchestration.\n",
        "\n",
        "## Test Objectives\n",
        "\n",
        "1. Verify the agent can dynamically select and execute tools\n",
        "2. Test multi-step reasoning (date calculation → weather lookup → recommendation)\n",
        "3. Examine intermediate steps and tool call sequences\n",
        "4. Validate error handling and clarification loops\n"
      ]
    },
    {
      "cell_type": "code",
      "execution_count": 1,
      "metadata": {},
      "outputs": [
        {
          "name": "stderr",
          "output_type": "stream",
          "text": [
            "python-dotenv could not parse statement starting at line 2\n",
            "python-dotenv could not parse statement starting at line 8\n"
          ]
        }
      ],
      "source": [
        "# Setup and imports\n",
        "import os\n",
        "import sys\n",
        "from dotenv import load_dotenv\n",
        "\n",
        "# Add src to path\n",
        "sys.path.insert(0, os.path.abspath('..'))\n",
        "\n",
        "# Load environment variables\n",
        "load_dotenv()\n",
        "\n",
        "from core.agent import WardrobeAgent, create_wardrobe_agent, run_agent\n",
        "from tools.date_ops import get_current_date, calculate_future_date\n",
        "from tools.weather_api import get_weather_forecast\n"
      ]
    },
    {
      "cell_type": "markdown",
      "metadata": {},
      "source": [
        "## Test 1: Basic Tool Access\n",
        "\n",
        "First, let's verify that individual tools work correctly.\n"
      ]
    },
    {
      "cell_type": "code",
      "execution_count": 2,
      "metadata": {},
      "outputs": [
        {
          "name": "stdout",
          "output_type": "stream",
          "text": [
            "Current date: 2025-10-15\n",
            "Date in 7 days: 2025-10-22\n",
            "Date in 14 days: 2025-10-29\n"
          ]
        }
      ],
      "source": [
        "# Test date tools\n",
        "print(\"Current date:\", get_current_date.invoke({}))\n",
        "print(\"Date in 7 days:\", calculate_future_date.invoke({\"days\": 7}))\n",
        "print(\"Date in 14 days:\", calculate_future_date.invoke({\"days\": 14}))\n"
      ]
    },
    {
      "cell_type": "markdown",
      "metadata": {},
      "source": [
        "## Test 2: Create the Agent\n",
        "\n",
        "Initialize the agent with verbose mode to see tool calls.\n"
      ]
    },
    {
      "cell_type": "code",
      "execution_count": 3,
      "metadata": {},
      "outputs": [
        {
          "name": "stdout",
          "output_type": "stream",
          "text": [
            "Agent created successfully!\n",
            "\n",
            "\n",
            "\u001b[1m> Entering new AgentExecutor chain...\u001b[0m\n",
            "\u001b[32;1m\u001b[1;3m\n",
            "Invoking: `calculate_future_date` with `{'days': 7}`\n",
            "\n",
            "\n",
            "\u001b[0m\u001b[33;1m\u001b[1;3m2025-10-22\u001b[0m\u001b[32;1m\u001b[1;3m\n",
            "Invoking: `get_weather_forecast` with `{'latitude': 41.8781, 'longitude': -87.6298}`\n",
            "\n",
            "\n",
            "\u001b[0m\u001b[38;5;200m\u001b[1;3m{'@context': ['https://geojson.org/geojson-ld/geojson-context.jsonld', {'@version': '1.1', 'wx': 'https://api.weather.gov/ontology#', 'geo': 'http://www.opengis.net/ont/geosparql#', 'unit': 'http://codes.wmo.int/common/unit/', '@vocab': 'https://api.weather.gov/ontology#'}], 'type': 'Feature', 'geometry': {'type': 'Polygon', 'coordinates': [[[-87.6031, 41.8653], [-87.6015, 41.887099899999996], [-87.6307999, 41.888299999999994], [-87.6324, 41.866499999999995], [-87.6031, 41.8653]]]}, 'properties': {'units': 'us', 'forecastGenerator': 'BaselineForecastGenerator', 'generatedAt': '2025-10-15T09:15:42+00:00', 'updateTime': '2025-10-15T09:11:11+00:00', 'validTimes': '2025-10-15T03:00:00+00:00/P7DT22H', 'elevation': {'unitCode': 'wmoUnit:m', 'value': 180.1368}, 'periods': [{'number': 1, 'name': 'Overnight', 'startTime': '2025-10-15T04:00:00-05:00', 'endTime': '2025-10-15T06:00:00-05:00', 'isDaytime': False, 'temperature': 57, 'temperatureUnit': 'F', 'temperatureTrend': '', 'probabilityOfPrecipitation': {'unitCode': 'wmoUnit:percent', 'value': 60}, 'windSpeed': '15 mph', 'windDirection': 'ENE', 'icon': 'https://api.weather.gov/icons/land/night/rain_showers,60?size=medium', 'shortForecast': 'Chance Rain Showers', 'detailedForecast': 'A chance of rain showers. Cloudy. Low around 57, with temperatures rising to around 59 overnight. East northeast wind around 15 mph, with gusts as high as 25 mph. Chance of precipitation is 60%. New rainfall amounts less than a tenth of an inch possible.'}, {'number': 2, 'name': 'Wednesday', 'startTime': '2025-10-15T06:00:00-05:00', 'endTime': '2025-10-15T18:00:00-05:00', 'isDaytime': True, 'temperature': 62, 'temperatureUnit': 'F', 'temperatureTrend': '', 'probabilityOfPrecipitation': {'unitCode': 'wmoUnit:percent', 'value': 45}, 'windSpeed': '10 to 15 mph', 'windDirection': 'ENE', 'icon': 'https://api.weather.gov/icons/land/day/rain_showers,50/ovc?size=medium', 'shortForecast': 'Scattered Rain Showers then Cloudy', 'detailedForecast': 'Scattered rain showers before noon. Cloudy, with a high near 62. East northeast wind 10 to 15 mph, with gusts as high as 25 mph. Chance of precipitation is 50%. New rainfall amounts less than a tenth of an inch possible.'}, {'number': 3, 'name': 'Wednesday Night', 'startTime': '2025-10-15T18:00:00-05:00', 'endTime': '2025-10-16T06:00:00-05:00', 'isDaytime': False, 'temperature': 56, 'temperatureUnit': 'F', 'temperatureTrend': '', 'probabilityOfPrecipitation': {'unitCode': 'wmoUnit:percent', 'value': 7}, 'windSpeed': '10 mph', 'windDirection': 'E', 'icon': 'https://api.weather.gov/icons/land/night/sct?size=medium', 'shortForecast': 'Partly Cloudy', 'detailedForecast': 'Partly cloudy, with a low around 56. East wind around 10 mph.'}, {'number': 4, 'name': 'Thursday', 'startTime': '2025-10-16T06:00:00-05:00', 'endTime': '2025-10-16T18:00:00-05:00', 'isDaytime': True, 'temperature': 67, 'temperatureUnit': 'F', 'temperatureTrend': '', 'probabilityOfPrecipitation': {'unitCode': 'wmoUnit:percent', 'value': 6}, 'windSpeed': '5 to 10 mph', 'windDirection': 'ESE', 'icon': 'https://api.weather.gov/icons/land/day/few?size=medium', 'shortForecast': 'Sunny', 'detailedForecast': 'Sunny, with a high near 67. East southeast wind 5 to 10 mph.'}, {'number': 5, 'name': 'Thursday Night', 'startTime': '2025-10-16T18:00:00-05:00', 'endTime': '2025-10-17T06:00:00-05:00', 'isDaytime': False, 'temperature': 58, 'temperatureUnit': 'F', 'temperatureTrend': '', 'probabilityOfPrecipitation': {'unitCode': 'wmoUnit:percent', 'value': 17}, 'windSpeed': '10 mph', 'windDirection': 'SE', 'icon': 'https://api.weather.gov/icons/land/night/sct/rain_showers,20?size=medium', 'shortForecast': 'Partly Cloudy then Slight Chance Rain Showers', 'detailedForecast': 'A slight chance of rain showers after 1am. Partly cloudy, with a low around 58. Southeast wind around 10 mph, with gusts as high as 20 mph. Chance of precipitation is 20%.'}, {'number': 6, 'name': 'Friday', 'startTime': '2025-10-17T06:00:00-05:00', 'endTime': '2025-10-17T18:00:00-05:00', 'isDaytime': True, 'temperature': 71, 'temperatureUnit': 'F', 'temperatureTrend': '', 'probabilityOfPrecipitation': {'unitCode': 'wmoUnit:percent', 'value': 20}, 'windSpeed': '10 to 15 mph', 'windDirection': 'S', 'icon': 'https://api.weather.gov/icons/land/day/rain_showers,20?size=medium', 'shortForecast': 'Slight Chance Rain Showers', 'detailedForecast': 'A slight chance of rain showers. Mostly cloudy, with a high near 71. Chance of precipitation is 20%.'}, {'number': 7, 'name': 'Friday Night', 'startTime': '2025-10-17T18:00:00-05:00', 'endTime': '2025-10-18T06:00:00-05:00', 'isDaytime': False, 'temperature': 62, 'temperatureUnit': 'F', 'temperatureTrend': '', 'probabilityOfPrecipitation': {'unitCode': 'wmoUnit:percent', 'value': 49}, 'windSpeed': '10 to 15 mph', 'windDirection': 'S', 'icon': 'https://api.weather.gov/icons/land/night/rain_showers,20/tsra_sct,50?size=medium', 'shortForecast': 'Chance Showers And Thunderstorms', 'detailedForecast': 'A slight chance of rain showers before 1am, then a chance of showers and thunderstorms. Mostly cloudy, with a low around 62.'}, {'number': 8, 'name': 'Saturday', 'startTime': '2025-10-18T06:00:00-05:00', 'endTime': '2025-10-18T18:00:00-05:00', 'isDaytime': True, 'temperature': 72, 'temperatureUnit': 'F', 'temperatureTrend': '', 'probabilityOfPrecipitation': {'unitCode': 'wmoUnit:percent', 'value': 79}, 'windSpeed': '10 to 15 mph', 'windDirection': 'SSW', 'icon': 'https://api.weather.gov/icons/land/day/tsra_sct,60/tsra_sct,80?size=medium', 'shortForecast': 'Showers And Thunderstorms', 'detailedForecast': 'Showers and thunderstorms. Mostly cloudy, with a high near 72.'}, {'number': 9, 'name': 'Saturday Night', 'startTime': '2025-10-18T18:00:00-05:00', 'endTime': '2025-10-19T06:00:00-05:00', 'isDaytime': False, 'temperature': 54, 'temperatureUnit': 'F', 'temperatureTrend': '', 'probabilityOfPrecipitation': {'unitCode': 'wmoUnit:percent', 'value': 79}, 'windSpeed': '10 to 15 mph', 'windDirection': 'W', 'icon': 'https://api.weather.gov/icons/land/night/tsra_sct,80/tsra_sct,60?size=medium', 'shortForecast': 'Showers And Thunderstorms', 'detailedForecast': 'Showers and thunderstorms. Mostly cloudy, with a low around 54.'}, {'number': 10, 'name': 'Sunday', 'startTime': '2025-10-19T06:00:00-05:00', 'endTime': '2025-10-19T18:00:00-05:00', 'isDaytime': True, 'temperature': 61, 'temperatureUnit': 'F', 'temperatureTrend': '', 'probabilityOfPrecipitation': {'unitCode': 'wmoUnit:percent', 'value': 61}, 'windSpeed': '15 mph', 'windDirection': 'WNW', 'icon': 'https://api.weather.gov/icons/land/day/rain_showers,60/rain_showers,40?size=medium', 'shortForecast': 'Rain Showers Likely', 'detailedForecast': 'Rain showers likely. Mostly sunny, with a high near 61.'}, {'number': 11, 'name': 'Sunday Night', 'startTime': '2025-10-19T18:00:00-05:00', 'endTime': '2025-10-20T06:00:00-05:00', 'isDaytime': False, 'temperature': 48, 'temperatureUnit': 'F', 'temperatureTrend': '', 'probabilityOfPrecipitation': {'unitCode': 'wmoUnit:percent', 'value': 30}, 'windSpeed': '10 to 15 mph', 'windDirection': 'W', 'icon': 'https://api.weather.gov/icons/land/night/rain_showers,30/rain_showers,20?size=medium', 'shortForecast': 'Chance Rain Showers', 'detailedForecast': 'A chance of rain showers before 1am. Mostly clear, with a low around 48.'}, {'number': 12, 'name': 'Monday', 'startTime': '2025-10-20T06:00:00-05:00', 'endTime': '2025-10-20T18:00:00-05:00', 'isDaytime': True, 'temperature': 63, 'temperatureUnit': 'F', 'temperatureTrend': '', 'probabilityOfPrecipitation': {'unitCode': 'wmoUnit:percent', 'value': 9}, 'windSpeed': '10 to 15 mph', 'windDirection': 'WSW', 'icon': 'https://api.weather.gov/icons/land/day/few?size=medium', 'shortForecast': 'Sunny', 'detailedForecast': 'Sunny, with a high near 63.'}, {'number': 13, 'name': 'Monday Night', 'startTime': '2025-10-20T18:00:00-05:00', 'endTime': '2025-10-21T06:00:00-05:00', 'isDaytime': False, 'temperature': 52, 'temperatureUnit': 'F', 'temperatureTrend': '', 'probabilityOfPrecipitation': {'unitCode': 'wmoUnit:percent', 'value': 17}, 'windSpeed': '10 mph', 'windDirection': 'SSW', 'icon': 'https://api.weather.gov/icons/land/night/few/rain_showers,20?size=medium', 'shortForecast': 'Mostly Clear then Slight Chance Rain Showers', 'detailedForecast': 'A slight chance of rain showers after 1am. Mostly clear, with a low around 52.'}, {'number': 14, 'name': 'Tuesday', 'startTime': '2025-10-21T06:00:00-05:00', 'endTime': '2025-10-21T18:00:00-05:00', 'isDaytime': True, 'temperature': 64, 'temperatureUnit': 'F', 'temperatureTrend': '', 'probabilityOfPrecipitation': {'unitCode': 'wmoUnit:percent', 'value': 29}, 'windSpeed': '10 to 15 mph', 'windDirection': 'WSW', 'icon': 'https://api.weather.gov/icons/land/day/rain_showers,30?size=medium', 'shortForecast': 'Chance Rain Showers', 'detailedForecast': 'A chance of rain showers. Mostly sunny, with a high near 64.'}]}}\u001b[0m\u001b[32;1m\u001b[1;3m### Destination & Dates:\n",
            "- **Location**: Chicago, Illinois\n",
            "- **Dates**: October 22, 2025\n",
            "\n",
            "### Weather Summary:\n",
            "The weather forecast for Chicago around your travel date indicates:\n",
            "- **October 22**: Partly cloudy with a high near 64°F and a slight chance of rain (29%).\n",
            "- **Earlier days**: Expect temperatures ranging from the mid-50s to low 70s with possible rain showers and thunderstorms on some days.\n",
            "\n",
            "### Packing Recommendations:\n",
            "1. **Clothing**:\n",
            "   - **Layering Options**: \n",
            "     - Light long-sleeve shirts or blouses (for layering)\n",
            "     - Light sweaters or cardigans\n",
            "     - A medium-weight jacket or coat (preferably waterproof)\n",
            "   - **Bottoms**:\n",
            "     - Comfortable jeans or chinos\n",
            "     - An option for lighter pants or skirts for warmer days\n",
            "   - **T-Shirts**: Light cotton t-shirts for layering under a sweater or jacket\n",
            "   - **Rain Gear**:\n",
            "     - Waterproof jacket or poncho\n",
            "     - Compact umbrella\n",
            "\n",
            "2. **Footwear**:\n",
            "   - Comfortable walking shoes (sneakers or casual shoes)\n",
            "   - Waterproof shoes or boots in case of rain\n",
            "\n",
            "3. **Accessories**:\n",
            "   - Scarf or shawl for added warmth\n",
            "   - Sunglasses (it can still be sunny)\n",
            "   - Hat (for sun protection on warmer days)\n",
            "   - Small backpack or tote for daily outings\n",
            "\n",
            "### Additional Tips:\n",
            "- **Check the Daily Forecast**: Weather can change quickly, so keep an eye on the forecast as your trip approaches.\n",
            "- **Be Prepared for Rain**: Given the chance of rain, it's wise to have your rain gear handy.\n",
            "- **Enjoy Indoor Activities**: Chicago has great museums and attractions; plan a mix of outdoor and indoor activities.\n",
            "\n",
            "Pack smart, and enjoy your trip to Chicago! If you have any more questions or need further assistance, feel free to ask.\u001b[0m\n",
            "\n",
            "\u001b[1m> Finished chain.\u001b[0m\n",
            "\n",
            "================================================================================\n",
            "RESPONSE:\n",
            "================================================================================\n",
            "### Destination & Dates:\n",
            "- **Location**: Chicago, Illinois\n",
            "- **Dates**: October 22, 2025\n",
            "\n",
            "### Weather Summary:\n",
            "The weather forecast for Chicago around your travel date indicates:\n",
            "- **October 22**: Partly cloudy with a high near 64°F and a slight chance of rain (29%).\n",
            "- **Earlier days**: Expect temperatures ranging from the mid-50s to low 70s with possible rain showers and thunderstorms on some days.\n",
            "\n",
            "### Packing Recommendations:\n",
            "1. **Clothing**:\n",
            "   - **Layering Options**: \n",
            "     - Light long-sleeve shirts or blouses (for layering)\n",
            "     - Light sweaters or cardigans\n",
            "     - A medium-weight jacket or coat (preferably waterproof)\n",
            "   - **Bottoms**:\n",
            "     - Comfortable jeans or chinos\n",
            "     - An option for lighter pants or skirts for warmer days\n",
            "   - **T-Shirts**: Light cotton t-shirts for layering under a sweater or jacket\n",
            "   - **Rain Gear**:\n",
            "     - Waterproof jacket or poncho\n",
            "     - Compact umbrella\n",
            "\n",
            "2. **Footwear**:\n",
            "   - Comfortable walking shoes (sneakers or casual shoes)\n",
            "   - Waterproof shoes or boots in case of rain\n",
            "\n",
            "3. **Accessories**:\n",
            "   - Scarf or shawl for added warmth\n",
            "   - Sunglasses (it can still be sunny)\n",
            "   - Hat (for sun protection on warmer days)\n",
            "   - Small backpack or tote for daily outings\n",
            "\n",
            "### Additional Tips:\n",
            "- **Check the Daily Forecast**: Weather can change quickly, so keep an eye on the forecast as your trip approaches.\n",
            "- **Be Prepared for Rain**: Given the chance of rain, it's wise to have your rain gear handy.\n",
            "- **Enjoy Indoor Activities**: Chicago has great museums and attractions; plan a mix of outdoor and indoor activities.\n",
            "\n",
            "Pack smart, and enjoy your trip to Chicago! If you have any more questions or need further assistance, feel free to ask.\n"
          ]
        }
      ],
      "source": [
        "# Create agent with verbose output\n",
        "agent = WardrobeAgent(\n",
        "    model_name=\"gpt-4o-mini\",\n",
        "    temperature=0.7,\n",
        "    verbose=True\n",
        ")\n",
        "\n",
        "print(\"Agent created successfully!\")\n",
        "\n",
        "# Test query\n",
        "query = \"What should I pack for a trip to Chicago 7 days from now?\"\n",
        "response = agent.ask(query)\n",
        "print(\"\\n\" + \"=\"*80)\n",
        "print(\"RESPONSE:\")\n",
        "print(\"=\"*80)\n",
        "print(response)\n"
      ]
    }
  ],
  "metadata": {
    "kernelspec": {
      "display_name": "tempus-vestis-MJzqyfbf",
      "language": "python",
      "name": "python3"
    },
    "language_info": {
      "codemirror_mode": {
        "name": "ipython",
        "version": 3
      },
      "file_extension": ".py",
      "mimetype": "text/x-python",
      "name": "python",
      "nbconvert_exporter": "python",
      "pygments_lexer": "ipython3",
      "version": "3.11.0"
    }
  },
  "nbformat": 4,
  "nbformat_minor": 2
}
